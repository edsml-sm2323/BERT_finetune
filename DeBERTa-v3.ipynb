{
 "cells": [
  {
   "cell_type": "code",
   "execution_count": null,
   "id": "b1a798d9",
   "metadata": {},
   "outputs": [],
   "source": [
    "import pandas as pd\n",
    "import numpy as np\n",
    "from datasets import Dataset\n",
    "from transformers import AutoTokenizer\n",
    "from dataclasses import dataclass\n",
    "from transformers.tokenization_utils_base import PreTrainedTokenizerBase, PaddingStrategy\n",
    "from typing import Optional, Union\n",
    "import torch\n",
    "from transformers import AutoModelForMultipleChoice, TrainingArguments, Trainer\n"
   ]
  },
  {
   "cell_type": "code",
   "execution_count": null,
   "id": "6d9b5cdd",
   "metadata": {},
   "outputs": [],
   "source": [
    "# 加载分词器\n",
    "# 连续文本字符串分解成token的过程，eg. [CLS], [SEP]\n",
    "model_dir = 'bert-base-cased'\n",
    "tokenizer = AutoTokenizer.from_pretrained(model_dir)\n",
    "\n",
    "# 为一个使用BERT模型进行多项选择任务的数据集进行预处理\n",
    "# 这里A-E映射为0-4, 0-4映射为A-E\n",
    "options = 'ABCDE'\n",
    "indices = list(range(5))\n",
    "option_to_index = {option: index for option, index in zip(options, indices)}\n",
    "index_to_option = {index: option for option, index in zip(options, indices)}\n",
    "\n",
    "def preprocess(example):\n",
    "    first_sentence = [example['prompt']] * 5\n",
    "    second_sentence = []\n",
    "    # A B C D E, 每一个遍历一个 加入second_sentence这个list\n",
    "    for option in options:\n",
    "        second_sentence.append(example[option])\n",
    "    \n",
    "    # 使用tokenizer对每对first_sentence和second_sentence进行分词，并设置截断（truncation=True）以确保长度一致。\n",
    "    tokenized_example = tokenizer(first_sentence, second_sentence, truncation=True)\n",
    "    # 将正确答案的字符（如'A'）转换为其对应的索引（如0）\n",
    "    tokenized_example['label'] = option_to_index[example['answer']]\n",
    "    return tokenized_example"
   ]
  },
  {
   "cell_type": "code",
   "execution_count": null,
   "id": "d2c5b302",
   "metadata": {},
   "outputs": [],
   "source": [
    "stem_1k_df = pd.read_csv(\"kaggle-llm-science-exam/stem_1k_v1.csv\")\n",
    "train_df = pd.read_csv('kaggle-llm-science-exam/train.csv')\n",
    "train_ds = Dataset.from_pandas(train_df)\n",
    "\n",
    "new_train_df = pd.concat([train_df,stem_1k_df])\n",
    "new_train_df.index = list(range(len(new_train_df)))\n",
    "new_train_df.id = list(range(len(new_train_df)))\n",
    "\n",
    "# 采样10%作为验证集，剩下90%为训练集，新的训练集共（1000+200）*0.9=1080条数据\n",
    "eval_sampled_df = new_train_df.sample(frac=0.1, random_state=42)\n",
    "train_sampled_df = new_train_df.drop(eval_sampled_df.index)\n",
    "\n",
    "train_ds = Dataset.from_pandas(train_sampled_df)\n",
    "eval_ds = Dataset.from_pandas(eval_sampled_df)\n",
    "\n",
    "# 编码数据\n",
    "model_dir = \"microsoft/deberta-v3-large\"\n",
    "tokenizer = AutoTokenizer.from_pretrained(model_dir)\n",
    "tokenized_train_ds = train_ds.map(preprocess, batched=False, remove_columns=['prompt', 'A', 'B', 'C', 'D', 'E', 'answer'])\n",
    "tokenized_eval_ds = eval_ds.map(preprocess, batched=False, remove_columns=['prompt', 'A', 'B', 'C', 'D', 'E', 'answer'])"
   ]
  },
  {
   "cell_type": "code",
   "execution_count": null,
   "id": "a6af49ab",
   "metadata": {},
   "outputs": [],
   "source": [
    "model = AutoModelForMultipleChoice.from_pretrained(model_dir)\n",
    "\n",
    "output_dir = 'finetuned_bert'\n",
    "training_args = TrainingArguments(\n",
    "    output_dir=output_dir,\n",
    "    evaluation_strategy =\"steps\",\n",
    "    eval_steps = 50, # Evaluation and Save happens every 5 steps\n",
    "    save_steps = 50,\n",
    "    save_total_limit = 3, # Only last 3 models are saved. Older ones are deleted\n",
    "    logging_steps=1,\n",
    "    load_best_model_at_end=True,\n",
    "    learning_rate=3e-6,\n",
    "    per_device_train_batch_size=2,\n",
    "    per_device_eval_batch_size=2,\n",
    "    num_train_epochs=4,\n",
    "    warmup_steps=50,\n",
    "    report_to='wandb')\n",
    "\n",
    "trainer = Trainer(\n",
    "    model=model,\n",
    "    args=training_args,\n",
    "    train_dataset=tokenized_train_ds,\n",
    "    eval_dataset=tokenized_eval_ds,\n",
    "    tokenizer=tokenizer,\n",
    "    data_collator=DataCollatorForMultipleChoice(tokenizer=tokenizer))\n",
    "\n",
    "trainer.train()"
   ]
  }
 ],
 "metadata": {
  "kernelspec": {
   "display_name": "Python 3 (ipykernel)",
   "language": "python",
   "name": "python3"
  },
  "language_info": {
   "codemirror_mode": {
    "name": "ipython",
    "version": 3
   },
   "file_extension": ".py",
   "mimetype": "text/x-python",
   "name": "python",
   "nbconvert_exporter": "python",
   "pygments_lexer": "ipython3",
   "version": "3.8.13"
  }
 },
 "nbformat": 4,
 "nbformat_minor": 5
}
